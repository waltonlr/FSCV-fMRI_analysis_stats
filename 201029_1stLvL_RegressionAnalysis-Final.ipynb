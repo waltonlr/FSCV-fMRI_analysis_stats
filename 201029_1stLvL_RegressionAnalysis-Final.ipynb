{
 "cells": [
  {
   "cell_type": "markdown",
   "metadata": {},
   "source": [
    "# 1st level analysis of DBS-fMRI\n",
    "\n",
    "### Use canonical HRF and data-driven HRF"
   ]
  },
  {
   "cell_type": "code",
   "execution_count": 1,
   "metadata": {},
   "outputs": [
    {
     "name": "stdout",
     "output_type": "stream",
     "text": [
      "Requirement already satisfied: slfmri in /Users/sasha/opt/anaconda3/lib/python3.7/site-packages (0.0.7)\n",
      "Requirement already satisfied: SimpleITK>=1.2.4 in /Users/sasha/opt/anaconda3/lib/python3.7/site-packages (from slfmri) (1.2.4)\n",
      "Requirement already satisfied: scikit-learn>=0.22.0 in /Users/sasha/opt/anaconda3/lib/python3.7/site-packages (from slfmri) (0.23.2)\n",
      "Requirement already satisfied: numpy>=1.18.0 in /Users/sasha/opt/anaconda3/lib/python3.7/site-packages (from slfmri) (1.18.4)\n",
      "Requirement already satisfied: pandas>=1.0.0 in /Users/sasha/opt/anaconda3/lib/python3.7/site-packages (from slfmri) (1.0.3)\n",
      "Requirement already satisfied: nibabel>=3.0.2 in /Users/sasha/opt/anaconda3/lib/python3.7/site-packages (from slfmri) (3.1.0)\n",
      "Requirement already satisfied: scipy>=1.4.0 in /Users/sasha/opt/anaconda3/lib/python3.7/site-packages (from slfmri) (1.5.4)\n",
      "Requirement already satisfied: shleeh>=0.0.4 in /Users/sasha/opt/anaconda3/lib/python3.7/site-packages (from slfmri) (0.0.7)\n",
      "Requirement already satisfied: joblib>=0.11 in /Users/sasha/opt/anaconda3/lib/python3.7/site-packages (from scikit-learn>=0.22.0->slfmri) (0.13.2)\n",
      "Requirement already satisfied: threadpoolctl>=2.0.0 in /Users/sasha/opt/anaconda3/lib/python3.7/site-packages (from scikit-learn>=0.22.0->slfmri) (2.1.0)\n",
      "Requirement already satisfied: pytz>=2017.2 in /Users/sasha/opt/anaconda3/lib/python3.7/site-packages (from pandas>=1.0.0->slfmri) (2019.3)\n",
      "Requirement already satisfied: python-dateutil>=2.6.1 in /Users/sasha/opt/anaconda3/lib/python3.7/site-packages (from pandas>=1.0.0->slfmri) (2.8.0)\n",
      "Requirement already satisfied: packaging>=14.3 in /Users/sasha/opt/anaconda3/lib/python3.7/site-packages (from nibabel>=3.0.2->slfmri) (19.2)\n",
      "Requirement already satisfied: six>=1.5 in /Users/sasha/opt/anaconda3/lib/python3.7/site-packages (from python-dateutil>=2.6.1->pandas>=1.0.0->slfmri) (1.12.0)\n",
      "Requirement already satisfied: pyparsing>=2.0.2 in /Users/sasha/opt/anaconda3/lib/python3.7/site-packages (from packaging>=14.3->nibabel>=3.0.2->slfmri) (2.4.2)\n",
      "\u001b[33mWARNING: You are using pip version 20.2; however, version 20.3.3 is available.\n",
      "You should consider upgrading via the '/Users/sasha/opt/anaconda3/bin/python -m pip install --upgrade pip' command.\u001b[0m\n",
      "Note: you may need to restart the kernel to use updated packages.\n"
     ]
    }
   ],
   "source": [
    "pip install slfmri"
   ]
  },
  {
   "cell_type": "code",
   "execution_count": 3,
   "metadata": {},
   "outputs": [
    {
     "name": "stdout",
     "output_type": "stream",
     "text": [
      "Populating the interactive namespace from numpy and matplotlib\n"
     ]
    }
   ],
   "source": [
    "# import packages we will need\n",
    "%pylab inline\n",
    "import hrf_estimation as he\n",
    "import pickle\n",
    "import nibabel as nib\n",
    "from sklearn.preprocessing import PolynomialFeatures\n",
    "from sklearn.linear_model import BayesianRidge\n",
    "from fmri_stats import *\n",
    "\n",
    "# data path manager (path man~)\n",
    "data_pm = PathMan('./Data')      # put all data in here\n",
    "oput_pm = PathMan('./Results')   # the results will be generated here\n",
    "cach_pm = PathMan('./Caches')    # all intermediate files will be saved here"
   ]
  },
  {
   "cell_type": "markdown",
   "metadata": {},
   "source": [
    "### Load BOLD data from 'Data' folder and save it to 'Cache' folder after process"
   ]
  },
  {
   "cell_type": "code",
   "execution_count": 5,
   "metadata": {},
   "outputs": [],
   "source": [
    "bold_cache = cach_pm('bold_data.pkl')\n",
    "if os.path.exists(bold_cache):\n",
    "    with open(bold_cache, 'rb') as f:\n",
    "        dict_roits, dict_brain = pickle.load(f)\n",
    "else:\n",
    "    dict_roits = dict()\n",
    "    dict_brain = dict()\n",
    "\n",
    "    num_init_rest_frames = 20\n",
    "\n",
    "    # Collect BOLD data from files\n",
    "    fn_ptrn = r'^scaled-(?P<subj>[0-9]{2})-(?P<stim>[0-9]{1}).*'\n",
    "    for i, fname in data_pm.listdir(pattern=r'.*\\.nii\\.gz').items():\n",
    "        mched = re.match(fn_ptrn, fname)\n",
    "\n",
    "        if mched is not None:\n",
    "            # parse info\n",
    "            subj = mched['subj']\n",
    "            stim = mched['stim']\n",
    "\n",
    "            # load data\n",
    "            img_nii = nib.load(data_pm(fname))\n",
    "            img_dat = np.asarray(img_nii.dataobj)\n",
    "\n",
    "            # roi mask\n",
    "            roi_msk = np.nonzero(nib.load(data_pm(f'DBSM-{subj}-ROI.nii.gz')).dataobj)\n",
    "\n",
    "            # recover lost frames during dummy scan periods\n",
    "            img_dat = np.concatenate(\n",
    "                [img_dat[..., :num_init_rest_frames].mean(-1)[..., np.newaxis]] * 8 + [img_dat], axis=-1)\n",
    "\n",
    "            roi_dat = img_dat[roi_msk].mean(0)\n",
    "            # baseline fitting using 'Savitzky-Golay filter' - for polynomial detrend the BOLD signal\n",
    "            roi_dat -= he.savitzky_golay.savgol_filter(roi_dat, 91, 3, axis=0)  \n",
    "            roi_dat -= roi_dat[:20].mean(0)\n",
    "\n",
    "            # one subject (20) does not have 3rd epoches on 500uA stim condition\n",
    "            if roi_dat.shape[0] < 700:\n",
    "                epoches = 2\n",
    "            else:\n",
    "                epoches = 3\n",
    "\n",
    "            # split data into each epoch\n",
    "            for e in range(epoches):\n",
    "                d = roi_dat[e*242:242+e*242]\n",
    "                dict_roits[f'{subj}-{stim.zfill(2)}-{str(e+1).zfill(2)}'] = d\n",
    "                dict_brain[f'{subj}-{stim.zfill(2)}-{str(e+1).zfill(2)}'] = img_dat[..., e*242:242+e*242]\n",
    "    with open(bold_cache, 'wb') as f:\n",
    "        pickle.dump((dict_roits, dict_brain), f)"
   ]
  },
  {
   "cell_type": "markdown",
   "metadata": {},
   "source": [
    "### Load Dopamine signal, estimated HRF, and Max dopamine amplitudes"
   ]
  },
  {
   "cell_type": "code",
   "execution_count": 6,
   "metadata": {},
   "outputs": [
    {
     "data": {
      "text/plain": [
       "[<matplotlib.lines.Line2D at 0x7fd73cfb8150>]"
      ]
     },
     "execution_count": 6,
     "metadata": {},
     "output_type": "execute_result"
    },
    {
     "data": {
      "image/png": "[encoded data removed]",
      "text/plain": [
       "<Figure size 432x288 with 2 Axes>"
      ]
     },
     "metadata": {
      "needs_background": "light"
     },
     "output_type": "display_data"
    }
   ],
   "source": [
    "import pandas as pd\n",
    "from slfmri.lib.signal import als_fit\n",
    "\n",
    "# load Dopamine signals\n",
    "da_data = pd.read_csv(data_pm('DopamineSignal_EstimatedHRF.csv'), header=0, index_col=0)\n",
    "columns = da_data.columns.tolist()\n",
    "\n",
    "# The colume title is names as 21-07-02.1, so update to same pattern with others.\n",
    "columns[27] = '21-07-03'\n",
    "da_data.columns = columns\n",
    "dict_dadata = dict()\n",
    "for did in dict_roits.keys():\n",
    "    da_sig = np.concatenate([np.zeros(8), da_data[did].values])\n",
    "    da_sig -= he.savitzky_golay.savgol_filter(da_sig, 91, 3, axis=0)    \n",
    "    dict_dadata[did] = da_sig\n",
    "\n",
    "# load HRF and estimate group-level hrf\n",
    "hrfs = pd.read_csv(data_pm('HRF_all_amplitudes.csv'), header=0)\n",
    "median_hrf = np.median(hrfs, axis=1)\n",
    "\n",
    "# pre-stim data cleaning (no stimulus)\n",
    "median_hrf[:2] = 0\n",
    "median_hrf -= median_hrf[:33].mean(0)\n",
    "# trim data (remove tail)\n",
    "median_hrf[-80:] = 0\n",
    "median_hrf[:33] = median_hrf[:33].mean(0)\n",
    "median_hrf -= median_hrf[:30].mean(0)\n",
    "\n",
    "estimated_hrf = als_fit(median_hrf, 5, 0.5, 100)[30:90]\n",
    "estimated_hrf[0] = 0    # set zero point to zero\n",
    "estimated_hrf /= estimated_hrf.max()\n",
    "canonical_hrf = he.hrf.spmt(np.arange(len(estimated_hrf)))\n",
    "\n",
    "fig, axes = plt.subplots(2, 1)\n",
    "axes[0].plot(np.median(hrfs, axis=1), 'k')\n",
    "axes[0].plot(als_fit(median_hrf, 5, 0.5, 100), 'r')\n",
    "axes[1].plot(estimated_hrf, 'r')\n",
    "axes[1].plot(canonical_hrf, 'b')"
   ]
  },
  {
   "cell_type": "code",
   "execution_count": 7,
   "metadata": {},
   "outputs": [],
   "source": [
    "# Save Harry's Raw HRF (group average) and smoothed HRF\n",
    "\n",
    "df = pd.DataFrame(dict(RawHRF=np.median(hrfs, axis=1), \n",
    "                       SmoothedHRF=als_fit(median_hrf, 5, 0.5, 100)))\n",
    "df.to_excel(oput_pm('201029_for_HRF_figure.xlsx'))"
   ]
  },
  {
   "cell_type": "markdown",
   "metadata": {},
   "source": [
    "### 1st level analysis\n",
    "- This notebook include the code to analysis data with canonical HRF by convoluting with stimulation block"
   ]
  },
  {
   "cell_type": "code",
   "execution_count": 8,
   "metadata": {},
   "outputs": [
    {
     "data": {
      "image/png": "[encoded data removed]",
      "text/plain": [
       "<Figure size 432x288 with 1 Axes>"
      ]
     },
     "metadata": {
      "needs_background": "light"
     },
     "output_type": "display_data"
    }
   ],
   "source": [
    "# Prepare model for conventional analysis to compare\n",
    "pre_rest = 30\n",
    "stim = 2\n",
    "post_rest = 210 \n",
    "stim_block = np.array([0] * pre_rest + [1] * stim + [0] * post_rest)\n",
    "stim_model = np.convolve(stim_block, canonical_hrf, mode='full')[:len(stim_block)]\n",
    "stim_model /= stim_model.max()\n",
    "\n",
    "fig, ax = plt.subplots(1, 1)\n",
    "ax.plot(stim_block, 'k')\n",
    "ax.plot(stim_model, 'b')\n",
    "\n",
    "# build design matrix for canonical SPM\n",
    "poly = PolynomialFeatures(2)\n",
    "pmodels = poly.fit_transform(np.arange(len(stim_model))[:, np.newaxis])\n",
    "canonical_mmat = np.concatenate([pmodels, stim_model[:, np.newaxis]], axis=-1)\n",
    "for i, m in enumerate(canonical_mmat.T):\n",
    "    canonical_mmat[:, i] = m / m.max()"
   ]
  },
  {
   "cell_type": "code",
   "execution_count": 9,
   "metadata": {},
   "outputs": [
    {
     "name": "stdout",
     "output_type": "stream",
     "text": [
      "Processing 20-07-01...Done!\n",
      "Processing 20-07-02...Done!\n",
      "Processing 20-07-03...Done!\n",
      "Processing 19-03-01...Done!\n",
      "Processing 19-03-02...Done!\n",
      "Processing 19-03-03...Done!\n",
      "Processing 26-07-01...Done!\n",
      "Processing 26-07-02...Done!\n",
      "Processing 26-07-03...Done!\n",
      "Processing 21-07-01...Done!\n",
      "Processing 21-07-02...Done!\n",
      "Processing 21-07-03...Done!\n",
      "Processing 20-05-01...Done!\n",
      "Processing 20-05-02...Done!\n",
      "Processing 24-03-01...Done!\n",
      "Processing 24-03-02...Done!\n",
      "Processing 24-03-03...Done!\n",
      "Processing 26-05-01...Done!\n",
      "Processing 26-05-02...Done!\n",
      "Processing 26-05-03...Done!\n",
      "Processing 21-05-01...Done!\n",
      "Processing 21-05-02...Done!\n",
      "Processing 21-05-03...Done!\n",
      "Processing 25-03-01...Done!\n",
      "Processing 25-03-02...Done!\n",
      "Processing 25-03-03...Done!\n",
      "Processing 19-07-01...Done!\n",
      "Processing 19-07-02...Done!\n",
      "Processing 19-07-03...Done!\n",
      "Processing 24-05-01...Done!\n",
      "Processing 24-05-02...Done!\n",
      "Processing 24-05-03...Done!\n",
      "Processing 20-03-01...Done!\n",
      "Processing 20-03-02...Done!\n",
      "Processing 20-03-03...Done!\n",
      "Processing 25-05-01...Done!\n",
      "Processing 25-05-02...Done!\n",
      "Processing 25-05-03...Done!\n",
      "Processing 26-03-01...Done!\n",
      "Processing 26-03-02...Done!\n",
      "Processing 26-03-03...Done!\n",
      "Processing 21-03-01...Done!\n",
      "Processing 21-03-02...Done!\n",
      "Processing 21-03-03...Done!\n",
      "Processing 19-05-01...Done!\n",
      "Processing 19-05-02...Done!\n",
      "Processing 19-05-03...Done!\n",
      "Processing 24-07-01...Done!\n",
      "Processing 24-07-02...Done!\n",
      "Processing 24-07-03...Done!\n",
      "Processing 25-07-01...Done!\n",
      "Processing 25-07-02...Done!\n",
      "Processing 25-07-03...Done!\n"
     ]
    }
   ],
   "source": [
    "msk_nii = nib.load(data_pm('Rat_BrainMask-4slices.nii.gz'))\n",
    "msk_idx = np.nonzero(msk_nii.dataobj)\n",
    "\n",
    "for did in dict_roits.keys():\n",
    "    print(f'Processing {did}', end='')\n",
    "    # apply convolution and build design matrix\n",
    "    estimated_bold = np.convolve(dict_dadata[did], \n",
    "                                 estimated_hrf, mode='full')[:len(stim_block), np.newaxis]\n",
    "    estimated_mmat = np.concatenate([pmodels, estimated_bold], axis=-1)\n",
    "    for i, m in enumerate(estimated_mmat.T):\n",
    "        estimated_mmat[:, i] = m / m.max()\n",
    "    \n",
    "    # load data\n",
    "    brain_dat = dict_brain[did]\n",
    "    \n",
    "    # prepare empty output images\n",
    "    est_map = np.zeros(msk_nii.shape)\n",
    "    can_map = est_map.copy()\n",
    "    print('.', end='')\n",
    "    \n",
    "    # BayesianRidge regression are used. This method outperforms compare to ordinary least sqare\n",
    "    # even data is noisy but slow.\n",
    "    clf = BayesianRidge(compute_score=True)\n",
    "    for i, t, k in np.transpose(msk_idx):\n",
    "        bold_sig = brain_dat[i, t, k]\n",
    "        # GLM for estimated BOLD\n",
    "        clf.fit(estimated_mmat, bold_sig)\n",
    "        est_map[i, t, k] = clf.coef_[-1]\n",
    "        # GLM for conventional approach (SPM HRF)\n",
    "        clf.fit(canonical_mmat, bold_sig)\n",
    "        can_map[i, t, k] = clf.coef_[-1]\n",
    "    print('.', end='')\n",
    "\n",
    "    est_nii = nib.Nifti1Image(est_map, msk_nii.affine)\n",
    "    est_nii.header['sform_code'] = msk_nii.header['sform_code']\n",
    "    est_nii.header['qform_code'] = msk_nii.header['qform_code']\n",
    "    est_nii.to_filename(oput_pm(f'stats_{did}_est.nii.gz'))\n",
    "    print('.', end='')\n",
    "    can_nii = nib.Nifti1Image(can_map, est_nii.affine, est_nii.header)\n",
    "    can_nii.to_filename(oput_pm(f'stats_{did}_can.nii.gz'))\n",
    "    print('Done!')"
   ]
  },
  {
   "cell_type": "markdown",
   "metadata": {},
   "source": [
    "### Move to 2nd level group statistics to continue"
   ]
  }
 ],
 "metadata": {
  "kernelspec": {
   "display_name": "Python 3",
   "language": "python",
   "name": "python3"
  },
  "language_info": {
   "codemirror_mode": {
    "name": "ipython",
    "version": 3
   },
   "file_extension": ".py",
   "mimetype": "text/x-python",
   "name": "python",
   "nbconvert_exporter": "python",
   "pygments_lexer": "ipython3",
   "version": "3.7.4"
  }
 },
 "nbformat": 4,
 "nbformat_minor": 4
}
